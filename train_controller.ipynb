{
 "cells": [
  {
   "cell_type": "code",
   "execution_count": 32,
   "metadata": {},
   "outputs": [],
   "source": [
    "import numpy as np\n",
    "import torch\n",
    "import torch.nn as nn\n",
    "import torch.optim as optim\n",
    "from torch.utils.data import Dataset, DataLoader\n",
    "import matplotlib.pylab as plt\n",
    "import pandas as pd\n"
   ]
  },
  {
   "cell_type": "code",
   "execution_count": null,
   "metadata": {},
   "outputs": [],
   "source": [
    "file_path = None\n",
    "df = pd.read_csv(file_path, delimiter='\\s+', header=None)\n",
    "columns = ['Label'] + [f'angle_idx_{i-1}' for i in range(1, df.shape[1])]\n",
    "df.columns = columns\n",
    "\n",
    "numpy_array = df.to_numpy()\n",
    "X_train = df.to_numpy()[:,2:]\n",
    "Y_train = None\n",
    "\n",
    "X_test = None\n",
    "Y_test = None\n",
    "\n",
    "# need to fix data generation"
   ]
  },
  {
   "cell_type": "code",
   "execution_count": 37,
   "metadata": {},
   "outputs": [],
   "source": [
    "class CustomDataset(Dataset):\n",
    "    def __init__(self, lidar, actions):\n",
    "        self.lidar = lidar\n",
    "        self.actions = actions\n",
    "    def __len__(self):\n",
    "        return len(self.lidar)\n",
    "    def __getitem__(self, idx):\n",
    "        lidar_tensor = torch.tensor(self.lidar[idx], dtype=torch.float32)\n",
    "        action = self.actions[idx]\n",
    "        return lidar_tensor, action"
   ]
  },
  {
   "cell_type": "code",
   "execution_count": 38,
   "metadata": {},
   "outputs": [],
   "source": [
    "train_dataset = CustomDataset(X_train, Y_train)\n",
    "test_dataset = CustomDataset(X_test, Y_test)\n",
    "train_loader = DataLoader(train_dataset, batch_size=64, shuffle=True)\n",
    "test_loader = DataLoader(test_dataset, batch_size=64, shuffle=False)"
   ]
  },
  {
   "cell_type": "code",
   "execution_count": 29,
   "metadata": {},
   "outputs": [],
   "source": [
    "class ControlNN(nn.Module):\n",
    "    def __init__(self, input_size=24, output_size=4, hidden_layers=10, hidden_size=64):\n",
    "        super(ControlNN, self).__init__()\n",
    "\n",
    "        layers =  []\n",
    "\n",
    "        layers.append(nn.Linear(input_size, hidden_size))\n",
    "        layers.append(nn.ReLU())\n",
    "\n",
    "        for i in range(hidden_layers-1):\n",
    "            layers.append(nn.Linear(hidden_size, hidden_size))\n",
    "            layers.append(nn.ReLU())\n",
    "\n",
    "        layers.append(nn.Linear(hidden_size, output_size))\n",
    "        self.model = nn.Sequential(*layers)\n",
    "\n",
    "    def forward(self, x):\n",
    "        return self.model(x)    \n"
   ]
  },
  {
   "cell_type": "code",
   "execution_count": 33,
   "metadata": {},
   "outputs": [],
   "source": [
    "def train_model(model, train_loader, test_loader, device, learning_rate=0.001, num_epochs=30):\n",
    "    criterion = nn.MSELoss()\n",
    "    optimizer = optim.Adam(model.parameters(), lr=learning_rate)\n",
    "    model.train()\n",
    "    for epoch in range(num_epochs):\n",
    "        running_loss = 0.0\n",
    "        num_samples = 0\n",
    "        for lidar, action in train_loader:\n",
    "            lidar, actions = lidar.to(device), action.to(device)\n",
    "            optimizer.zero_grad()\n",
    "            outputs = model(lidar)\n",
    "            loss = criterion(outputs, actions)\n",
    "            loss.backward()\n",
    "            optimizer.step()\n",
    "            running_loss += loss.item() * lidar.size(0)\n",
    "            num_samples += lidar.size(0)\n",
    "\n",
    "        avg_loss = running_loss / num_samples\n",
    "        print(f\"Epoch [{epoch + 1}/{num_epochs}], Loss: {avg_loss:.4f}\")\n",
    "    \n",
    "    model.eval() \n",
    "    \n",
    "    total_loss = 0.0\n",
    "    total_abs_error = 0.0\n",
    "    num_samples = 0\n",
    "\n",
    "    criterion = nn.MSELoss()\n",
    "\n",
    "    with torch.no_grad():\n",
    "        for lidar, actions in test_loader:\n",
    "            lidar, actions = lidar.to(device), actions.to(device)\n",
    "            \n",
    "            outputs = model(lidar)\n",
    "\n",
    "            mse_loss = criterion(outputs, actions)\n",
    "            total_loss += mse_loss.item() * lidar.size(0)\n",
    "            total_abs_error += torch.abs(outputs - actions).sum().item() \n",
    "\n",
    "            num_samples += lidar.size(0)\n",
    "\n",
    "    avg_mse_loss = total_loss / num_samples\n",
    "    avg_abs_error = total_abs_error / num_samples\n",
    "    \n",
    "    print(f\"Test MSE Loss: {avg_mse_loss:.4f}\")\n",
    "    print(f\"Test Mean Absolute Error (MAE): {avg_abs_error:.4f}\")\n",
    "    return model"
   ]
  },
  {
   "cell_type": "code",
   "execution_count": null,
   "metadata": {},
   "outputs": [],
   "source": [
    "device = torch.device('cuda' if torch.cuda.is_available() else 'cpu')\n",
    "model = ControlNN(device)\n",
    "model = train_model(model, train_loader, test_loader, device)"
   ]
  },
  {
   "cell_type": "code",
   "execution_count": null,
   "metadata": {},
   "outputs": [],
   "source": []
  }
 ],
 "metadata": {
  "kernelspec": {
   "display_name": "controller_training_env",
   "language": "python",
   "name": "python3"
  },
  "language_info": {
   "codemirror_mode": {
    "name": "ipython",
    "version": 3
   },
   "file_extension": ".py",
   "mimetype": "text/x-python",
   "name": "python",
   "nbconvert_exporter": "python",
   "pygments_lexer": "ipython3",
   "version": "3.8.10"
  }
 },
 "nbformat": 4,
 "nbformat_minor": 2
}
